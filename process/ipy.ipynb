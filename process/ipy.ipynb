{
 "cells": [
  {
   "cell_type": "code",
   "execution_count": 75,
   "metadata": {},
   "outputs": [],
   "source": [
    "import pandas as pd\n",
    "import cv2\n",
    "import numpy as np\n",
    "from sklearn.cluster import KMeans\n",
    "import math\n",
    "import collections"
   ]
  },
  {
   "cell_type": "code",
   "execution_count": 76,
   "metadata": {},
   "outputs": [],
   "source": [
    "img = cv2.imread('Z:\\\\v2\\\\images\\\\sunflower.jpg')\n",
    "gray = cv2.cvtColor(img, cv2.COLOR_BGR2GRAY)\n",
    "hsv = cv2.cvtColor(img, cv2.COLOR_BGR2HSV)\n",
    "edge = cv2.Canny(img, 200, 200)\n",
    "h, w, _ = img.shape\n",
    "layers = 5"
   ]
  },
  {
   "cell_type": "code",
   "execution_count": 77,
   "metadata": {},
   "outputs": [],
   "source": [
    "dim = img.reshape(h*w, 3)\n",
    "df = pd.DataFrame({\n",
    "    'f1': dim[0:, 0],\n",
    "    'f2': dim[0:, 1],\n",
    "    'f3': dim[0:, 2]\n",
    "})"
   ]
  },
  {
   "cell_type": "code",
   "execution_count": 78,
   "metadata": {},
   "outputs": [],
   "source": [
    "kmeans = KMeans(n_clusters = layers)\n",
    "kmeans.fit(df)\n",
    "z = kmeans.labels_"
   ]
  },
  {
   "cell_type": "code",
   "execution_count": 79,
   "metadata": {},
   "outputs": [],
   "source": [
    "asdf = np.zeros(layers)\n",
    "for t in range(layers):\n",
    "    count = 0\n",
    "    for m in range(len(z)):\n",
    "        if z[m] == t:\n",
    "            count += 1\n",
    "    asdf[t] = count"
   ]
  },
  {
   "cell_type": "code",
   "execution_count": 80,
   "metadata": {},
   "outputs": [],
   "source": [
    "x, y = [], []\n",
    "for j in range(h):\n",
    "    for i in range(w):\n",
    "        x.append(i)\n",
    "        y.append(j)\n",
    "x = np.array(x)\n",
    "y = np.array(y)"
   ]
  },
  {
   "cell_type": "code",
   "execution_count": 81,
   "metadata": {},
   "outputs": [],
   "source": [
    "def distances():\n",
    "    meep = np.zeros(layers)\n",
    "    count = np.zeros(layers)\n",
    "    for t in range(layers):\n",
    "        for p in range(h*w):\n",
    "            if z[p] == t:\n",
    "                meep[t] += math.sqrt( (w/2 - x[p])**2 + (h/2 - y[p])**2 )\n",
    "                count[t] += 1\n",
    "    return meep/count"
   ]
  },
  {
   "cell_type": "code",
   "execution_count": 82,
   "metadata": {},
   "outputs": [],
   "source": [
    "d = {}\n",
    "avg = distances()\n",
    "for t in range(len(avg)):\n",
    "    d[avg[t]] = t\n",
    "od = collections.OrderedDict(sorted(d.items()))\n",
    "reshape = list(od.values())[::-1]"
   ]
  },
  {
   "cell_type": "code",
   "execution_count": 83,
   "metadata": {},
   "outputs": [
    {
     "data": {
      "text/plain": [
       "[3, 0, 2, 1, 4]"
      ]
     },
     "execution_count": 83,
     "metadata": {},
     "output_type": "execute_result"
    }
   ],
   "source": [
    "reshape"
   ]
  },
  {
   "cell_type": "code",
   "execution_count": 84,
   "metadata": {},
   "outputs": [],
   "source": [
    "def flipflop():\n",
    "    count = 0\n",
    "    for p in range(h*w):\n",
    "        for t in range(len(reshape)):\n",
    "            if z[p] == reshape[t]:\n",
    "                count += 1\n",
    "                z[p] = t\n",
    "                break\n",
    "    return count"
   ]
  },
  {
   "cell_type": "code",
   "execution_count": 85,
   "metadata": {},
   "outputs": [
    {
     "data": {
      "text/plain": [
       "array([182.31979499, 105.97824759, 111.23110799, 186.49675127,\n",
       "        93.2858882 ])"
      ]
     },
     "execution_count": 85,
     "metadata": {},
     "output_type": "execute_result"
    }
   ],
   "source": [
    "distances()"
   ]
  },
  {
   "cell_type": "code",
   "execution_count": 86,
   "metadata": {},
   "outputs": [
    {
     "data": {
      "text/plain": [
       "160000"
      ]
     },
     "execution_count": 86,
     "metadata": {},
     "output_type": "execute_result"
    }
   ],
   "source": [
    "flipflop()"
   ]
  },
  {
   "cell_type": "code",
   "execution_count": 87,
   "metadata": {},
   "outputs": [
    {
     "data": {
      "text/plain": [
       "array([186.49675127, 182.31979499, 111.23110799, 105.97824759,\n",
       "        93.2858882 ])"
      ]
     },
     "execution_count": 87,
     "metadata": {},
     "output_type": "execute_result"
    }
   ],
   "source": [
    "distances()"
   ]
  },
  {
   "cell_type": "code",
   "execution_count": 65,
   "metadata": {},
   "outputs": [
    {
     "data": {
      "text/plain": [
       "4"
      ]
     },
     "execution_count": 65,
     "metadata": {},
     "output_type": "execute_result"
    }
   ],
   "source": [
    "z.min()"
   ]
  },
  {
   "cell_type": "code",
   "execution_count": null,
   "metadata": {},
   "outputs": [],
   "source": [
    "# import PyQt5\n",
    "# from mpl_toolkits.mplot3d import Axes3D\n",
    "# import matplotlib.pyplot as plt\n",
    "\n",
    "# %matplotlib qt\n",
    "\n",
    "# fig = plt.figure()\n",
    "# ax = fig.add_subplot(111, projection='3d')\n",
    "\n",
    "# ax.scatter(x, y, z, c='r', marker='.')\n",
    "\n",
    "# ax.set_xlabel('x')\n",
    "# ax.set_ylabel('y')\n",
    "# ax.set_zlabel('z')\n",
    "\n",
    "# plt.show()"
   ]
  },
  {
   "cell_type": "code",
   "execution_count": 88,
   "metadata": {},
   "outputs": [],
   "source": [
    "edgeValues = edge.reshape(h*w, 1)"
   ]
  },
  {
   "cell_type": "code",
   "execution_count": 89,
   "metadata": {},
   "outputs": [],
   "source": [
    "def add_edges():\n",
    "    for t in range(len(z)):\n",
    "        if edgeValues[t] == 255:\n",
    "            if z[t] <= layers / 2:\n",
    "                z[t] = layers\n",
    "            else:\n",
    "                z[t] = 0"
   ]
  },
  {
   "cell_type": "code",
   "execution_count": 90,
   "metadata": {},
   "outputs": [],
   "source": [
    "add_edges()\n",
    "for pt in range(len(z)):\n",
    "    z[pt] = z[pt] * 255 / layers"
   ]
  },
  {
   "cell_type": "code",
   "execution_count": 91,
   "metadata": {},
   "outputs": [],
   "source": [
    "new = gray.copy()\n",
    "p = 0\n",
    "for j in range(h):\n",
    "    for i in range(w):\n",
    "        new[j][i] = z[p]\n",
    "        p += 1"
   ]
  },
  {
   "cell_type": "code",
   "execution_count": 92,
   "metadata": {},
   "outputs": [],
   "source": [
    "cv2.imshow('new', new)\n",
    "cv2.waitKey(0)\n",
    "cv2.destroyAllWindows()"
   ]
  }
 ],
 "metadata": {
  "kernelspec": {
   "display_name": "Python 3",
   "language": "python",
   "name": "python3"
  },
  "language_info": {
   "codemirror_mode": {
    "name": "ipython",
    "version": 3
   },
   "file_extension": ".py",
   "mimetype": "text/x-python",
   "name": "python",
   "nbconvert_exporter": "python",
   "pygments_lexer": "ipython3",
   "version": "3.6.5"
  }
 },
 "nbformat": 4,
 "nbformat_minor": 2
}
